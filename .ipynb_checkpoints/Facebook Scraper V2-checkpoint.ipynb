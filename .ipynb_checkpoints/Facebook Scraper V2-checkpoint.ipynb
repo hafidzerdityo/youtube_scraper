{
 "cells": [
  {
   "cell_type": "code",
   "execution_count": 1,
   "id": "08da8747",
   "metadata": {
    "ExecuteTime": {
     "end_time": "2022-04-25T10:24:14.245621Z",
     "start_time": "2022-04-25T10:24:07.780337Z"
    },
    "scrolled": false
   },
   "outputs": [],
   "source": [
    "from selenium import webdriver\n",
    "from selenium.webdriver.chrome.service import Service\n",
    "import pandas as pd\n",
    "from bs4 import BeautifulSoup as bs\n",
    "from selenium.webdriver.common.keys import Keys\n",
    "from selenium.webdriver.support import expected_conditions as EC\n",
    "from selenium.webdriver.common.by import By\n",
    "import time\n",
    "from selenium.webdriver.support.ui import WebDriverWait\n",
    "from tqdm import tqdm\n",
    "\n",
    "ser = Service(\"C:\\Program Files (x86)\\chromedriver.exe\")\n",
    "op = webdriver.ChromeOptions()\n",
    "driver = webdriver.Chrome(service=ser, options=op)"
   ]
  },
  {
   "cell_type": "code",
   "execution_count": 2,
   "id": "bb6ac140",
   "metadata": {
    "ExecuteTime": {
     "end_time": "2022-04-25T10:24:29.528620Z",
     "start_time": "2022-04-25T10:24:17.663700Z"
    }
   },
   "outputs": [],
   "source": [
    "#open the webpage\n",
    "driver.get(\"http://www.facebook.com\")\n",
    "\n",
    "#target username\n",
    "username = WebDriverWait(driver, 10).until(EC.element_to_be_clickable((By.CSS_SELECTOR, \"input[name='email']\")))\n",
    "password = WebDriverWait(driver, 10).until(EC.element_to_be_clickable((By.CSS_SELECTOR, \"input[name='pass']\")))\n",
    "\n",
    "#enter username and password\n",
    "username.clear()\n",
    "username.send_keys(\"andriawannathan@gmail.com\")\n",
    "password.clear()\n",
    "password.send_keys(\"bananamilk98\")\n",
    "\n",
    "#target the login button and click it\n",
    "button = WebDriverWait(driver, 2).until(EC.element_to_be_clickable((By.CSS_SELECTOR, \"button[type='submit']\"))).click()\n",
    "\n",
    "time.sleep(10)"
   ]
  },
  {
   "cell_type": "code",
   "execution_count": 17,
   "id": "8f4b1ef7",
   "metadata": {
    "ExecuteTime": {
     "end_time": "2022-04-25T10:25:01.168319Z",
     "start_time": "2022-04-25T10:24:59.098931Z"
    }
   },
   "outputs": [],
   "source": [
    "# navigate to any target, change this with what you need\n",
    "target_url = \"https://www.facebook.com/PrabowoSubianto\"\n",
    "driver.get(target_url)\n",
    "soup = bs(driver.page_source, \"lxml\")"
   ]
  },
  {
   "cell_type": "code",
   "execution_count": 4,
   "id": "3cb8776b",
   "metadata": {
    "ExecuteTime": {
     "end_time": "2022-04-25T10:25:04.435538Z",
     "start_time": "2022-04-25T10:25:04.420004Z"
    }
   },
   "outputs": [],
   "source": [
    "see_more_id = 'oajrlxb2 g5ia77u1 qu0x051f esr5mh6w e9989ue4 r7d6kgcz rq0escxv nhd2j8a9 nc684nl6 p7hjln8o kvgmc6g5 cxmmr5t8 oygrvhab hcukyx3x jb3vyjys rz4wbd8a qt6c0cv9 a8nywdso i1ao9s8h esuyzwwr f1sip0of lzcic4wl gpro0wi8 oo9gr5id lrazzd5p'\n",
    "see_more_id = see_more_id.replace(' ', '.')\n",
    "\n",
    "view_comm_id = 'j83agx80 fv0vnmcu hpfvmrgz'\n",
    "view_comm_id = view_comm_id.replace(' ', '.')\n",
    "\n",
    "single_post_id = 'du4w35lb k4urcfbm l9j0dhe7 sjgh65i0'\n",
    "\n",
    "post_init_id = 'kvgmc6g5 cxmmr5t8 oygrvhab hcukyx3x c1et5uql ii04i59q'\n",
    "post_rest_id = 'cxmmr5t8 oygrvhab hcukyx3x c1et5uql o9v6fnle ii04i59q'"
   ]
  },
  {
   "cell_type": "code",
   "execution_count": 5,
   "id": "241d2741",
   "metadata": {
    "ExecuteTime": {
     "end_time": "2022-04-25T10:25:07.491593Z",
     "start_time": "2022-04-25T10:25:07.055092Z"
    }
   },
   "outputs": [],
   "source": [
    "soup = bs(driver.page_source, \"lxml\")"
   ]
  },
  {
   "cell_type": "code",
   "execution_count": 20,
   "id": "379c71bf",
   "metadata": {
    "ExecuteTime": {
     "end_time": "2022-04-25T10:25:20.517343Z",
     "start_time": "2022-04-25T10:25:09.563509Z"
    }
   },
   "outputs": [
    {
     "name": "stdout",
     "output_type": "stream",
     "text": [
      "10\n"
     ]
    }
   ],
   "source": [
    "get_all_post = soup.findAll('div', {'class' : single_post_id})\n",
    "\n",
    "while True:\n",
    "    soup = bs(driver.page_source, \"lxml\")\n",
    "    get_all_post = soup.findAll('div', {'class' : single_post_id})\n",
    "    driver.execute_script(\"window.scrollTo(0, document.body.scrollHeight);\")\n",
    "    time.sleep(5)\n",
    "    print(len(get_all_post))\n",
    "    if len(get_all_post) >= 10:\n",
    "        break\n",
    "# for i in get_all_post:\n",
    "#      len(get_all_post) <= 5:\n",
    "#         driver.execute_script(\"window.scrollTo(0, document.body.scrollHeight);\")\n",
    "#     print(len(get_all_post))"
   ]
  },
  {
   "cell_type": "code",
   "execution_count": 7,
   "id": "eafa083e",
   "metadata": {},
   "outputs": [],
   "source": [
    "# for i in get_all_post:\n",
    "#     new_comm_id = i.get('class')\n",
    "#     new_comm_id = '.'.join(new_post_id).strip()\n",
    "#     this_comm_more = driver.find_"
   ]
  },
  {
   "cell_type": "code",
   "execution_count": 21,
   "id": "2a3a98ee",
   "metadata": {
    "ExecuteTime": {
     "end_time": "2022-04-25T10:10:09.772245Z",
     "start_time": "2022-04-25T10:10:09.200246Z"
    }
   },
   "outputs": [],
   "source": [
    "soup = bs(driver.page_source, \"lxml\")"
   ]
  },
  {
   "cell_type": "code",
   "execution_count": 9,
   "id": "d54087e2",
   "metadata": {},
   "outputs": [],
   "source": [
    "# like_count = WebDriverWait(driver, driver_wait).until(EC.presence_of_element_located((By.CSS_SELECTOR,'.yt-simple-endpoint>yt-formatted-string'))).text"
   ]
  },
  {
   "cell_type": "code",
   "execution_count": 22,
   "id": "6996974b",
   "metadata": {
    "ExecuteTime": {
     "end_time": "2022-04-25T10:28:43.184671Z",
     "start_time": "2022-04-25T10:28:43.161192Z"
    }
   },
   "outputs": [],
   "source": [
    "driver.execute_script(\"window.scrollTo(0, 0);\")"
   ]
  },
  {
   "cell_type": "code",
   "execution_count": 38,
   "id": "d5c64a49",
   "metadata": {
    "ExecuteTime": {
     "end_time": "2022-04-25T10:42:54.744168Z",
     "start_time": "2022-04-25T10:42:52.200668Z"
    },
    "scrolled": true
   },
   "outputs": [
    {
     "name": "stdout",
     "output_type": "stream",
     "text": [
      "TULISAN SEE MORE: See more\n",
      "Prabowo Subianto \n",
      "16 April at 10:04\n",
      "Teruslah menjadi pasukan elit kebanggaan negeri, jagalah marwah dan kehormatan baret merah. Ingatlah janji kalian di bawah Dwi Warna Panji Pertiwi, setialah hanya kepada rakyat dan bangsa.  Jaya selalu Kopassus.… See more\n",
      "9.3K Likes\n",
      "529 comments 209 shares\n",
      "----------------------------------------------------------------------------------------------------\n",
      "TULISAN SEE MORE: See more\n",
      "Prabowo Subianto \n",
      "15 April at 15:11\n",
      "Kepada saudara-saudaraku umat Kristiani, selamat memperingati Hari Jumat Agung, semoga kedamaian, berkat dan kasih selalu menyertai Anda dan keluarga.\n",
      "10K Likes\n",
      "919 comments 146 shares\n",
      "----------------------------------------------------------------------------------------------------\n",
      "TULISAN SEE MORE: See more\n",
      "Prabowo Subianto \n",
      "2 April at 16:09\n",
      "Bulan suci Ramadan telah kembali, melalui sidang isbat yang telah dilakukan oleh Kementerian Agama, 1 Ramadan 1443 H jatuh pada Minggu 3 April 2022. Bagi saudara-saudaraku umat muslim dimanapun kalian berada, selamat menjalankan ibadah puasa Ramadan, teguhkan niat untuk sebulan penuh berpuasa demi menggapai rahmat dan ridho Allah Subhanahu Wata’ala. Mohon maaf lahir dan batin. Selamat menunaikan ibadah puasa Ramadan.\n",
      "10K Likes\n",
      "646 comments 179 shares\n",
      "----------------------------------------------------------------------------------------------------\n",
      "TULISAN SEE MORE: See more\n",
      "Prabowo Subianto \n",
      "26 March\n",
      "Pak Ben Mboi berpesan kepada saya, “Prabowo, kalau mau menjadi pemimpin yang baik, saya hanya bisa anjurkan 2 hal, love your people and use your common sense, kau tidak akan meleset” Selaras d… See more\n",
      "4K Likes\n",
      "334 comments 152 shares\n",
      "----------------------------------------------------------------------------------------------------\n",
      "TULISAN SEE MORE: See more\n",
      "Prabowo Subianto \n",
      "28 February\n",
      "Bismillahirrahmanirrahim. Peristiwa agung yang terjadi pada malam Isra Mi’raj hanya dapat dicerna oleh kita yang memiliki iman dan takwa kepada Allah Subhanahu Wa Ta’ala dan Rasul-Nya, Muhammad Shalallahu Alaihi Wassalam. Peristiwa yang termaktub dalam Surah Al-Isra ayat 1, menegaskan kekuasaan dan kebesaran dari Allah.… See more\n",
      "10K Likes\n",
      "576 comments 174 shares\n",
      "----------------------------------------------------------------------------------------------------\n",
      "TULISAN SEE MORE: See more\n",
      "Prabowo Subianto \n",
      "6 February\n",
      "\n",
      "3K Likes\n",
      "634 comments 219 shares\n",
      "----------------------------------------------------------------------------------------------------\n",
      "TULISAN SEE MORE: See more\n",
      "Prabowo Subianto \n",
      "31 January\n",
      "31 Januari 96 tahun yang lalu, atau bertepatan dengan 16 Rajab 1344 H, berdirilah Nahdlatul Ulama (NU) yang hingga kini menjadi salah satu pilar persatuan dan kebangsaan dalam nafas Islam, Ahlus sunnah wal Jamaah.  Sejarah NU tidak dapat kita lepaskan dari semangat KH Hasyim Asy'ari yang banyak memberi nasihat dan buah pikiran terhadap tokoh bangsa dalam pergerakan nasional untuk menjalankan perjuangan dan menjadi insan yang berbua… See more\n",
      "7.8K Likes\n",
      "750 comments 161 shares\n",
      "----------------------------------------------------------------------------------------------------\n",
      "TULISAN SEE MORE: See more\n",
      "Prabowo Subianto \n",
      "1 January\n",
      "Sebagai pribadi dari bangsa pejuang, seorang pejuang harus selalu optimis, harus selalu menunjukkan semangat. Seorang pendekar, seorang pejuang itu berani dan bersemangat. Tegar dalam menghadapi tantang. Terjatuh bangun lagi, terjatuh bangun lagi, terjatuh lagi bangun lagi. Menghadapi badai, men… See more\n",
      "3.9K Likes\n",
      "833 comments 185 shares\n",
      "----------------------------------------------------------------------------------------------------\n",
      "TULISAN SEE MORE: See more\n",
      "Prabowo Subianto \n",
      "25 December 2021\n",
      "Semoga Tuhan Yang Maha Kuasa senantiasa mencurahkan, keselamatan, kebahagian dan kedamaian bagi kita sekalian.  Salam hangat saya untuk keluarga di rumah.\n",
      "1.5K Likes\n",
      "230 comments 45 shares\n",
      "----------------------------------------------------------------------------------------------------\n",
      "TULISAN SEE MORE: See more\n",
      "Prabowo Subianto \n",
      "9 December 2021\n",
      "Terima kasih kepada Ketua DPD Partai Gerakan Indonesia Raya (Gerindra) Jawa Timur Anwar Sadad dan rekan-rekan Partai Gerindra Jawa Timur, rekan-rekan Partai Gerindra Lumaja… See more\n",
      "1.5K Likes\n",
      "355 comments 73 shares\n",
      "----------------------------------------------------------------------------------------------------\n",
      "TULISAN SEE MORE: See more\n",
      "Prabowo Subianto \n",
      "5 December 2021\n",
      "Pembuatan kapal cepat rudal ini merupakan pemenuhan amanat Undang-undang yang bertujuan melindungi segenap tumpah darah Indonesia. Memenuhi amanat konstitusi, pertahanan tidak boleh diabaikan. Negara kaya tanpa pertahanan yang kuat, neg… See more\n",
      "43K Likes\n",
      "1.6K comments 352 shares\n",
      "----------------------------------------------------------------------------------------------------\n",
      "TULISAN SEE MORE: See more\n",
      "Prabowo Subianto \n",
      "25 November 2021\n",
      "Selamat Hari Guru Nasional, Bergerak dengan Hati, Pulihkan Pendidikan.\n",
      "3K Likes\n",
      "422 comments 85 shares\n",
      "----------------------------------------------------------------------------------------------------\n",
      "TULISAN SEE MORE: See more\n",
      "Prabowo Subianto \n",
      "18 November 2021\n",
      "109 tahun usia Persyarikatan Muhammadiyah, seabad lebih menebarkan manfaat bagi umat, mengabdikan diri demi kemanusiaan, memegang teguh khittahnya yakni mewujudkan kesejahteraan, kebaikan dan kebahagian luas merata.  Sejarah terus mencatat, bahwa Muhammadiyah terus bergerak dan berkontribusi nyata demi bangsa dan rakyat Indonesia, baik di bidang pendidikan, kesehatan mau pun sosial. … See more\n",
      "3.8K Likes\n",
      "352 comments 84 shares\n",
      "----------------------------------------------------------------------------------------------------\n"
     ]
    },
    {
     "data": {
      "text/plain": [
       "13"
      ]
     },
     "execution_count": 38,
     "metadata": {},
     "output_type": "execute_result"
    }
   ],
   "source": [
    "driver_wait = 5\n",
    "\n",
    "\n",
    "\n",
    "soup = bs(driver.page_source, \"lxml\")\n",
    "get_all_post = soup.findAll('div', {'class' : single_post_id})\n",
    "driver.execute_script(\"window.scrollTo(0, 0);\")\n",
    "# TODO : send keys up\n",
    "\n",
    "for i in get_all_post:\n",
    "    post_creator = i.find('h2', {'class': 'gmql0nx0 l94mrbxd p1ri9a11 lzcic4wl aahdfvyu hzawbc8m'}).text\n",
    "    \n",
    "#     try:\n",
    "#         this_more = driver.find_elements_by_class_name(see_more_id)\n",
    "#         for x in this_more:\n",
    "#             if x.text == 'See more':\n",
    "#                 x.click()\n",
    "#                 time.sleep(5)\n",
    "#                 print('Clicked (See more)!')\n",
    "#     except:\n",
    "#         pass\n",
    "\n",
    "    # !!!!!!!!!!!!!!!!!!!!!!!!!!\n",
    "    # DISINIIIIIII !!!!!!!!!!!!!\n",
    "    # INI UNTUK NGAMBIL SEE MORE\n",
    "    # DISINIIIIIII !!!!!!!!!!!!!\n",
    "    # !!!!!!!!!!!!!!!!!!!!!!!!!!\n",
    "    see_more_id = 'oajrlxb2 g5ia77u1 qu0x051f esr5mh6w e9989ue4 r7d6kgcz rq0escxv nhd2j8a9 nc684nl6 p7hjln8o kvgmc6g5 cxmmr5t8 oygrvhab hcukyx3x jb3vyjys rz4wbd8a qt6c0cv9 a8nywdso i1ao9s8h esuyzwwr f1sip0of lzcic4wl gpro0wi8 oo9gr5id lrazzd5p'\n",
    "    this_more = i.find('div', {'class': see_more_id})\n",
    "    try:\n",
    "        click_more = WebDriverWait(driver, 99).until(EC.presence_of_element_located((By.XPATH,'/html/body/div[1]/div/div[1]/div/div[3]/div/div/div[1]/div[1]/div/div/div[4]/div[2]/div/div[2]/div/div[1]/div/div/div/div/div/div/div/div/div/div/div[2]/div/div[3]/div[1]/div/div/div/span/div[3]/div/div')))\n",
    "        try:\n",
    "            print('TULISAN SEE MORE:',click_more.text)\n",
    "        except:\n",
    "            print('There is a see more, but cant get it')\n",
    "        for x in click_more:\n",
    "            if x.text == 'See more':\n",
    "                x.click()\n",
    "                time.sleep(5)\n",
    "                print('Clicked (See more)!')\n",
    "                print(x.text)\n",
    "    except:\n",
    "        pass\n",
    "    \n",
    "#     soup = bs(driver.page_source, \"lxml\")\n",
    "    post_date = i.find('a', {'class': 'oajrlxb2 g5ia77u1 qu0x051f esr5mh6w e9989ue4 r7d6kgcz rq0escxv nhd2j8a9 nc684nl6 p7hjln8o kvgmc6g5 cxmmr5t8 oygrvhab hcukyx3x jb3vyjys rz4wbd8a qt6c0cv9 a8nywdso i1ao9s8h esuyzwwr f1sip0of lzcic4wl gmql0nx0 gpro0wi8 b1v8xokw'}).get('aria-label')\n",
    "    post_init_content = i.find('div', {'class': post_init_id}).text\n",
    "    post_rest_content = i.findAll('div', {'class': post_rest_id})\n",
    "    post_full_content = ''\n",
    "    post_likes = i.find('span', {'class': 'pcp91wgn'}).text\n",
    "    post_comments_n_share = i.find('div', {'class': 'bp9cbjyn j83agx80 pfnyh3mw p1ueia1e'}).text\n",
    "    post_comments_n_share = post_comments_n_share.replace('comments', 'comments ')\n",
    "    \n",
    "    for text in post_rest_content:\n",
    "        post_full_content = post_full_content + ' ' + text.text\n",
    "    \n",
    "    print(post_creator)\n",
    "    print(post_date)\n",
    "    print(post_full_content.strip())\n",
    "    print(post_likes + \" Likes\")\n",
    "    print(post_comments_n_share)\n",
    "    print('-'*100)\n",
    "    \n",
    "len(get_all_post)"
   ]
  },
  {
   "cell_type": "code",
   "execution_count": null,
   "id": "e14c9bb8",
   "metadata": {
    "ExecuteTime": {
     "end_time": "2022-04-25T10:39:42.200177Z",
     "start_time": "2022-04-25T10:39:41.531012Z"
    }
   },
   "outputs": [],
   "source": [
    "soup = bs(driver.page_source, \"lxml\")\n",
    "get_all_post = soup.findAll('div', {'class' : single_post_id})\n",
    "# driver.execute_script(\"window.scrollTo(0, 0);\")\n",
    "# TODO : send keys up\n",
    "\n",
    "for i in get_all_post:\n",
    "    see_more_id = 'oajrlxb2 g5ia77u1 qu0x051f esr5mh6w e9989ue4 r7d6kgcz rq0escxv nhd2j8a9 nc684nl6 p7hjln8o kvgmc6g5 cxmmr5t8 oygrvhab hcukyx3x jb3vyjys rz4wbd8a qt6c0cv9 a8nywdso i1ao9s8h esuyzwwr f1sip0of lzcic4wl gpro0wi8 oo9gr5id lrazzd5p'\n",
    "#     see_more_id = see_more_id.replace(' ', '.')\n",
    "    this_more = i.find('div', {'class': see_more_id})\n",
    "    \n",
    "    try:\n",
    "        this_more.click()\n",
    "        print(this_more.text)\n",
    "    except:\n",
    "        pass\n",
    "    \n",
    "#     try:\n",
    "#     click_more = WebDriverWait(driver, driver_wait).until(EC.presence_of_element_located((By.CSS_SELECTOR,'div > .oajrlxb2.g5ia77u1.qu0x051f')))\n",
    "#     for x in click_more:\n",
    "#     print(click_more.text)\n",
    "#     except:\n",
    "#         pass"
   ]
  },
  {
   "cell_type": "code",
   "execution_count": null,
   "id": "83316c32",
   "metadata": {
    "ExecuteTime": {
     "end_time": "2022-04-25T10:47:43.731847Z",
     "start_time": "2022-04-25T10:47:33.090340Z"
    }
   },
   "outputs": [],
   "source": [
    "soup = bs(driver.page_source, \"lxml\")\n",
    "this_comm_more = driver.find_elements_by_class_name(view_comm_id)\n",
    "for x in this_comm_more:\n",
    "#     print(x.text)\n",
    "    if x.text == 'View more comments':\n",
    "        try:\n",
    "            x.click()\n",
    "            print('Clicked (More com)!')\n",
    "        except:\n",
    "            pass"
   ]
  },
  {
   "cell_type": "code",
   "execution_count": null,
   "id": "a1c7bfe4",
   "metadata": {
    "ExecuteTime": {
     "end_time": "2022-04-25T10:47:19.725813Z",
     "start_time": "2022-04-25T10:47:13.348621Z"
    },
    "scrolled": true
   },
   "outputs": [],
   "source": [
    "# get number of commments displayed after clicks\n",
    "check_displayed_comments = 'd2edcug0 hpfvmrgz qv66sw1b c1et5uql lr9zc1uh a8c37x1j fe6kdd0r mau55g9w c8b282yb keod5gw0 nxhoafnm aigsh9s9 d3f4x2em iv3no6db jq4qci2q a3bd9o3v b1v8xokw m9osqain oqcyycmt'\n",
    "\n",
    "soup = bs(driver.page_source, \"lxml\")\n",
    "get_all_post = soup.findAll('div', {'class' : single_post_id})\n",
    "\n",
    "for i in get_all_post:\n",
    "    total_displayed = i.find('span', {'class' :check_displayed_comments}).text\n",
    "    total_re = re.findall(r'(\\w+)\\s(?=of)', total_displayed)\n",
    "#     print(total_re[0])\n",
    "    if int(total_re[0].strip()) == 51:\n",
    "        \n",
    "        print(\"pas\")\n",
    "    else:\n",
    "        print(\"ga pas\")\n",
    "        soup = bs(driver.page_source, \"lxml\")\n",
    "        this_comm_more = driver.find_elements_by_class_name(view_comm_id)\n",
    "        for x in this_comm_more:\n",
    "        #     print(x.text)\n",
    "            if x.text == 'View more comments':\n",
    "                try:\n",
    "                    x.click()\n",
    "                    print('Clicked (More com)!')\n",
    "                except:\n",
    "                    pass"
   ]
  },
  {
   "cell_type": "code",
   "execution_count": null,
   "id": "f3211cf5",
   "metadata": {
    "ExecuteTime": {
     "end_time": "2022-04-25T10:46:00.544659Z",
     "start_time": "2022-04-25T10:45:58.988160Z"
    }
   },
   "outputs": [],
   "source": [
    "check_displayed_comments = 'd2edcug0 hpfvmrgz qv66sw1b c1et5uql lr9zc1uh a8c37x1j fe6kdd0r mau55g9w c8b282yb keod5gw0 nxhoafnm aigsh9s9 d3f4x2em iv3no6db jq4qci2q a3bd9o3v b1v8xokw m9osqain oqcyycmt'\n",
    "\n",
    "get_all_post = soup.findAll('div', {'class' : single_post_id})\n",
    "\n",
    "for i in get_all_post:\n",
    "    total_displayed = i.find('span', {'class' :check_displayed_comments}).text\n",
    "    total_re = re.findall(r'(\\w+)\\s(?=of)', total_displayed)\n",
    "    print(total_re[0])"
   ]
  },
  {
   "cell_type": "code",
   "execution_count": null,
   "id": "7291e745",
   "metadata": {
    "ExecuteTime": {
     "end_time": "2022-04-25T10:48:00.696104Z",
     "start_time": "2022-04-25T10:47:48.308823Z"
    }
   },
   "outputs": [],
   "source": [
    "soup = bs(driver.page_source, \"lxml\")\n",
    "get_all_post = soup.findAll('div', {'class' : single_post_id})\n",
    "\n",
    "for i in get_all_post:\n",
    "    kolom_comment = i.find('div', {'class': 'cwj9ozl2 tvmbv18p'})\n",
    "    list_comment_banyak = kolom_comment.select('ul li')\n",
    "    \n",
    "    single_comment = []\n",
    "    for x in list_comment_banyak:\n",
    "        comment_list_id = 'b3i9ofy5 e72ty7fz qlfml3jp inkptoze qmr60zad rq0escxv oo9gr5id q9uorilb kvgmc6g5 cxmmr5t8 oygrvhab hcukyx3x d2edcug0 jm1wdb64 l9j0dhe7 l3itjdph qv66sw1b'\n",
    "        comment_list_id = comment_list_id.replace(' ', '.')\n",
    "        comment_list = x.select('.{}'.format(comment_list_id))\n",
    "        for y in comment_list:\n",
    "            comment_author = y.find('a', {'class': 'oajrlxb2 g5ia77u1 qu0x051f esr5mh6w e9989ue4 r7d6kgcz rq0escxv nhd2j8a9 nc684nl6 p7hjln8o kvgmc6g5 cxmmr5t8 oygrvhab hcukyx3x jb3vyjys rz4wbd8a qt6c0cv9 a8nywdso i1ao9s8h esuyzwwr f1sip0of lzcic4wl gmql0nx0 gpro0wi8'}).text\n",
    "            comment_content = y.find('div', {'class': 'kvgmc6g5 cxmmr5t8 oygrvhab hcukyx3x c1et5uql'}).text\n",
    "            single_comment.append({\n",
    "                'comment_author' : comment_author,\n",
    "                'comment_content' : comment_content\n",
    "            })\n",
    "    print(len(single_comment))\n",
    "    print('-'*98)"
   ]
  }
 ],
 "metadata": {
  "kernelspec": {
   "display_name": "datascience",
   "language": "python",
   "name": "datascience"
  },
  "language_info": {
   "codemirror_mode": {
    "name": "ipython",
    "version": 3
   },
   "file_extension": ".py",
   "mimetype": "text/x-python",
   "name": "python",
   "nbconvert_exporter": "python",
   "pygments_lexer": "ipython3",
   "version": "3.10.1"
  }
 },
 "nbformat": 4,
 "nbformat_minor": 5
}
